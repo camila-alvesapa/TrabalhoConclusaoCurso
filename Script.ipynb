{
 "cells": [
  {
   "cell_type": "markdown",
   "id": "187e9655",
   "metadata": {},
   "source": [
    "<h1>Análise de Base de Dados sobre o Fluxo de rede que passa por um IP que sofre um ataque de força bruta</h1>"
   ]
  },
  {
   "cell_type": "code",
   "execution_count": 1,
   "id": "dfbde442",
   "metadata": {},
   "outputs": [],
   "source": [
    "%matplotlib inline\n",
    "import pandas as pd\n",
    "#import numpy as np\n",
    "#import matplotlib.pyplot as plt\n",
    "#import seaborn as sns"
   ]
  },
  {
   "cell_type": "code",
   "execution_count": 10,
   "id": "c39a0ab1",
   "metadata": {},
   "outputs": [
    {
     "name": "stdout",
     "output_type": "stream",
     "text": [
      "Possível ataque ocorrendo do Ip Origem  177.124.72.16  para o Ip Destino  177.124.77.45\n"
     ]
    }
   ],
   "source": [
    "#Leitura do Arquivo com dados da rede com ocorrencia do ataque\n",
    "baseForcaBrutaCA = pd.read_csv(\"C:/Users/camil/Downloads/camilaServidorComAt.csv\")\n",
    "\n",
    "#imprimindo dataframe\n",
    "#baseForcaBrutaCA\n",
    "\n",
    "listaIpDestinoSemOrdenacao = baseForcaBrutaCA['destination.nat.ip'].values\n",
    "listaIpDestinoOrdenado = sorted(listaIpDestinoSemOrdenacao)\n",
    "\n",
    "cont = 0\n",
    "\n",
    "listaIpsDestino = [] #lista com ip's que tentaram conexão\n",
    "rep = 0\n",
    "#iteração para salvar nas listas os ip's com seus respectivos números de tentativas\n",
    "for k in range(0,len(listaIpDestinoOrdenado)-1):\n",
    "    if(listaIpDestinoOrdenado[k] == listaIpDestinoOrdenado[k+1]):\n",
    "        rep += 1\n",
    "        if (k == len(listaIpDestinoOrdenado)-2):\n",
    "            listaIpsDestino.insert(k, listaIpDestinoOrdenado[k])          \n",
    "    else:\n",
    "        listaIpsDestino.insert(k, listaIpDestinoOrdenado[k])\n",
    "        rep = 0\n",
    "        \n",
    "for cont in range(len(listaIpsDestino)):\n",
    "    #Mascara e filtro para obter dados do dataframe relacionados somente a determinado ip quando está sofrendo um suposto ataque de força bruta, por fim salvando em um novo dataframe\n",
    "    baseForcaBrutaCA_mask=baseForcaBrutaCA['destination.nat.ip']==listaIpsDestino[cont]\n",
    "    filtered_baseForcaBrutaCA = baseForcaBrutaCA[baseForcaBrutaCA_mask]\n",
    "    baseForcaBrutaCA_FluxoAtacanteVitima = filtered_baseForcaBrutaCA [['source.nat.ip' ,'destination.nat.ip', 'flow.tcp_flags']]\n",
    "    baseForcaBrutaCA_FluxoAtacanteVitima\n",
    "\n",
    "    #Salvando em um vetor as flags que chegaram ao ip destino\n",
    "    vetorFlagsAtacanteToVitima = baseForcaBrutaCA_FluxoAtacanteVitima['flow.tcp_flags'].values\n",
    "\n",
    "    #Salvando em um vetor os ip's que tentaram uma conexão com o ip destino \n",
    "    vetorCA = baseForcaBrutaCA_FluxoAtacanteVitima['source.nat.ip'].values\n",
    "\n",
    "    #Ordenando todos os ip's que tentaram conexão com o ip destino\n",
    "    vetorCAOrdenado = sorted(vetorCA)\n",
    "\n",
    "    listaIPAtacanteCA = [] #lista com ip's que tentaram conexão\n",
    "    listaNumeroOcorrenciasCA = [] #lista com o número de tentativas de conexão de cada ip origem com o ip destino\n",
    "    rep = 0\n",
    "    #iteração para salvar nas listas os ip's com seus respectivos números de tentativas\n",
    "    for k in range(0,len(vetorCAOrdenado)-1):\n",
    "        if(vetorCAOrdenado[k] == vetorCAOrdenado[k+1]):\n",
    "            rep += 1\n",
    "            if (k == len(vetorCAOrdenado)-2):\n",
    "                listaIPAtacanteCA.insert(k, vetorCAOrdenado[k])\n",
    "                listaNumeroOcorrenciasCA.insert(k, rep+1)          \n",
    "        else:\n",
    "            listaIPAtacanteCA.insert(k, vetorCAOrdenado[k])\n",
    "            listaNumeroOcorrenciasCA.insert(k, rep+1)\n",
    "            rep = 0\n",
    "        \n",
    "    listaIpsFluxoMaiorDez = [] #Lista dos ip's origem que tentaram por mais de 10 vezes uma conexão com o ip destino\n",
    "    i = 0\n",
    "    #iteração para salvar na lista os ip's que tentaram por mais de 10 vezes uma conexão com o ip destino\n",
    "    for i in range(len(listaNumeroOcorrenciasCA)):\n",
    "        if listaNumeroOcorrenciasCA[i] > 10:\n",
    "            listaIpsFluxoMaiorDez.insert (i, listaIPAtacanteCA[i])\n",
    "        \n",
    "    i = 0\n",
    "    ip = 0\n",
    "    aux = 0\n",
    "    #iteração para verificar a sequencia de flags enviadas pelo ip origem, sendo que\n",
    "    #se o mesmo enviou o flag \"SYN\" sequencialmente, sem ter qualquer outro flag, podemos concluir q o mesmo está tentando uma conexão sem sucesso, o que pode identificar um ataque\n",
    "    for ip in range(len(listaIpsFluxoMaiorDez)):\n",
    "        for i in range(len(listaNumeroOcorrenciasCA)):\n",
    "            if vetorCA[i] == listaIpsFluxoMaiorDez[ip]:\n",
    "                if vetorFlagsAtacanteToVitima[i] == '[\"SYN\"]':\n",
    "                    aux = aux + 1 \n",
    "                    if aux > 10:\n",
    "                        print (\"Possível ataque ocorrendo do Ip Origem \", vetorCA[i], \" para o Ip Destino \", listaIpsDestino[cont])\n",
    "                        break\n",
    "                else:\n",
    "                    aux = 0"
   ]
  },
  {
   "cell_type": "code",
   "execution_count": null,
   "id": "ae84adf1",
   "metadata": {},
   "outputs": [],
   "source": []
  }
 ],
 "metadata": {
  "kernelspec": {
   "display_name": "Python 3 (ipykernel)",
   "language": "python",
   "name": "python3"
  },
  "language_info": {
   "codemirror_mode": {
    "name": "ipython",
    "version": 3
   },
   "file_extension": ".py",
   "mimetype": "text/x-python",
   "name": "python",
   "nbconvert_exporter": "python",
   "pygments_lexer": "ipython3",
   "version": "3.10.4"
  }
 },
 "nbformat": 4,
 "nbformat_minor": 5
}
